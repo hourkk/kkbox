{
 "cells": [
  {
   "cell_type": "code",
   "execution_count": 1,
   "metadata": {},
   "outputs": [],
   "source": [
    "import csv\n",
    "import numpy as np\n",
    "import pandas as pd"
   ]
  },
  {
   "cell_type": "markdown",
   "metadata": {},
   "source": [
    "只看members_v3.csv和train.csv分析"
   ]
  },
  {
   "cell_type": "code",
   "execution_count": 2,
   "metadata": {},
   "outputs": [
    {
     "name": "stdout",
     "output_type": "stream",
     "text": [
      "<class 'pandas.core.frame.DataFrame'>\n",
      "RangeIndex: 6769473 entries, 0 to 6769472\n",
      "Data columns (total 6 columns):\n",
      "msno                      object\n",
      "city                      int64\n",
      "bd                        int64\n",
      "gender                    object\n",
      "registered_via            int64\n",
      "registration_init_time    int64\n",
      "dtypes: int64(4), object(2)\n",
      "memory usage: 309.9+ MB\n"
     ]
    }
   ],
   "source": [
    "members_v3 = pd.read_csv(\"D:/kkbox-churn-prediction-challenge/members_v3.csv\")\n",
    "members_v3.info()"
   ]
  },
  {
   "cell_type": "code",
   "execution_count": 3,
   "metadata": {},
   "outputs": [
    {
     "data": {
      "text/html": [
       "<div>\n",
       "<style scoped>\n",
       "    .dataframe tbody tr th:only-of-type {\n",
       "        vertical-align: middle;\n",
       "    }\n",
       "\n",
       "    .dataframe tbody tr th {\n",
       "        vertical-align: top;\n",
       "    }\n",
       "\n",
       "    .dataframe thead th {\n",
       "        text-align: right;\n",
       "    }\n",
       "</style>\n",
       "<table border=\"1\" class=\"dataframe\">\n",
       "  <thead>\n",
       "    <tr style=\"text-align: right;\">\n",
       "      <th></th>\n",
       "      <th>msno</th>\n",
       "      <th>city</th>\n",
       "      <th>bd</th>\n",
       "      <th>gender</th>\n",
       "      <th>registered_via</th>\n",
       "      <th>registration_init_time</th>\n",
       "    </tr>\n",
       "  </thead>\n",
       "  <tbody>\n",
       "    <tr>\n",
       "      <th>0</th>\n",
       "      <td>Rb9UwLQTrxzBVwCB6+bCcSQWZ9JiNLC9dXtM1oEsZA8=</td>\n",
       "      <td>1</td>\n",
       "      <td>0</td>\n",
       "      <td>NaN</td>\n",
       "      <td>11</td>\n",
       "      <td>20110911</td>\n",
       "    </tr>\n",
       "    <tr>\n",
       "      <th>1</th>\n",
       "      <td>+tJonkh+O1CA796Fm5X60UMOtB6POHAwPjbTRVl/EuU=</td>\n",
       "      <td>1</td>\n",
       "      <td>0</td>\n",
       "      <td>NaN</td>\n",
       "      <td>7</td>\n",
       "      <td>20110914</td>\n",
       "    </tr>\n",
       "    <tr>\n",
       "      <th>2</th>\n",
       "      <td>cV358ssn7a0f7jZOwGNWS07wCKVqxyiImJUX6xcIwKw=</td>\n",
       "      <td>1</td>\n",
       "      <td>0</td>\n",
       "      <td>NaN</td>\n",
       "      <td>11</td>\n",
       "      <td>20110915</td>\n",
       "    </tr>\n",
       "    <tr>\n",
       "      <th>3</th>\n",
       "      <td>9bzDeJP6sQodK73K5CBlJ6fgIQzPeLnRl0p5B77XP+g=</td>\n",
       "      <td>1</td>\n",
       "      <td>0</td>\n",
       "      <td>NaN</td>\n",
       "      <td>11</td>\n",
       "      <td>20110915</td>\n",
       "    </tr>\n",
       "    <tr>\n",
       "      <th>4</th>\n",
       "      <td>WFLY3s7z4EZsieHCt63XrsdtfTEmJ+2PnnKLH5GY4Tk=</td>\n",
       "      <td>6</td>\n",
       "      <td>32</td>\n",
       "      <td>female</td>\n",
       "      <td>9</td>\n",
       "      <td>20110915</td>\n",
       "    </tr>\n",
       "  </tbody>\n",
       "</table>\n",
       "</div>"
      ],
      "text/plain": [
       "                                           msno  city  bd  gender  \\\n",
       "0  Rb9UwLQTrxzBVwCB6+bCcSQWZ9JiNLC9dXtM1oEsZA8=     1   0     NaN   \n",
       "1  +tJonkh+O1CA796Fm5X60UMOtB6POHAwPjbTRVl/EuU=     1   0     NaN   \n",
       "2  cV358ssn7a0f7jZOwGNWS07wCKVqxyiImJUX6xcIwKw=     1   0     NaN   \n",
       "3  9bzDeJP6sQodK73K5CBlJ6fgIQzPeLnRl0p5B77XP+g=     1   0     NaN   \n",
       "4  WFLY3s7z4EZsieHCt63XrsdtfTEmJ+2PnnKLH5GY4Tk=     6  32  female   \n",
       "\n",
       "   registered_via  registration_init_time  \n",
       "0              11                20110911  \n",
       "1               7                20110914  \n",
       "2              11                20110915  \n",
       "3              11                20110915  \n",
       "4               9                20110915  "
      ]
     },
     "execution_count": 3,
     "metadata": {},
     "output_type": "execute_result"
    }
   ],
   "source": [
    "members_v3.head()"
   ]
  },
  {
   "cell_type": "code",
   "execution_count": 4,
   "metadata": {},
   "outputs": [
    {
     "name": "stdout",
     "output_type": "stream",
     "text": [
      "<class 'pandas.core.frame.DataFrame'>\n",
      "RangeIndex: 992931 entries, 0 to 992930\n",
      "Data columns (total 2 columns):\n",
      "msno        992931 non-null object\n",
      "is_churn    992931 non-null int64\n",
      "dtypes: int64(1), object(1)\n",
      "memory usage: 15.2+ MB\n"
     ]
    }
   ],
   "source": [
    "train = pd.read_csv(\"D:/kkbox-churn-prediction-challenge/train.csv\")\n",
    "train.info()"
   ]
  },
  {
   "cell_type": "code",
   "execution_count": 5,
   "metadata": {},
   "outputs": [
    {
     "data": {
      "text/html": [
       "<div>\n",
       "<style scoped>\n",
       "    .dataframe tbody tr th:only-of-type {\n",
       "        vertical-align: middle;\n",
       "    }\n",
       "\n",
       "    .dataframe tbody tr th {\n",
       "        vertical-align: top;\n",
       "    }\n",
       "\n",
       "    .dataframe thead th {\n",
       "        text-align: right;\n",
       "    }\n",
       "</style>\n",
       "<table border=\"1\" class=\"dataframe\">\n",
       "  <thead>\n",
       "    <tr style=\"text-align: right;\">\n",
       "      <th></th>\n",
       "      <th>msno</th>\n",
       "      <th>is_churn</th>\n",
       "    </tr>\n",
       "  </thead>\n",
       "  <tbody>\n",
       "    <tr>\n",
       "      <th>0</th>\n",
       "      <td>waLDQMmcOu2jLDaV1ddDkgCrB/jl6sD66Xzs0Vqax1Y=</td>\n",
       "      <td>1</td>\n",
       "    </tr>\n",
       "    <tr>\n",
       "      <th>1</th>\n",
       "      <td>QA7uiXy8vIbUSPOkCf9RwQ3FsT8jVq2OxDr8zqa7bRQ=</td>\n",
       "      <td>1</td>\n",
       "    </tr>\n",
       "    <tr>\n",
       "      <th>2</th>\n",
       "      <td>fGwBva6hikQmTJzrbz/2Ezjm5Cth5jZUNvXigKK2AFA=</td>\n",
       "      <td>1</td>\n",
       "    </tr>\n",
       "    <tr>\n",
       "      <th>3</th>\n",
       "      <td>mT5V8rEpa+8wuqi6x0DoVd3H5icMKkE9Prt49UlmK+4=</td>\n",
       "      <td>1</td>\n",
       "    </tr>\n",
       "    <tr>\n",
       "      <th>4</th>\n",
       "      <td>XaPhtGLk/5UvvOYHcONTwsnH97P4eGECeq+BARGItRw=</td>\n",
       "      <td>1</td>\n",
       "    </tr>\n",
       "  </tbody>\n",
       "</table>\n",
       "</div>"
      ],
      "text/plain": [
       "                                           msno  is_churn\n",
       "0  waLDQMmcOu2jLDaV1ddDkgCrB/jl6sD66Xzs0Vqax1Y=         1\n",
       "1  QA7uiXy8vIbUSPOkCf9RwQ3FsT8jVq2OxDr8zqa7bRQ=         1\n",
       "2  fGwBva6hikQmTJzrbz/2Ezjm5Cth5jZUNvXigKK2AFA=         1\n",
       "3  mT5V8rEpa+8wuqi6x0DoVd3H5icMKkE9Prt49UlmK+4=         1\n",
       "4  XaPhtGLk/5UvvOYHcONTwsnH97P4eGECeq+BARGItRw=         1"
      ]
     },
     "execution_count": 5,
     "metadata": {},
     "output_type": "execute_result"
    }
   ],
   "source": [
    "train.head()"
   ]
  },
  {
   "cell_type": "code",
   "execution_count": 6,
   "metadata": {},
   "outputs": [
    {
     "data": {
      "text/plain": [
       "array([0.06392287])"
      ]
     },
     "execution_count": 6,
     "metadata": {},
     "output_type": "execute_result"
    }
   ],
   "source": [
    "train[\"is_churn\"].sum()/train[\"is_churn\"].shape"
   ]
  },
  {
   "cell_type": "code",
   "execution_count": 7,
   "metadata": {},
   "outputs": [],
   "source": [
    "mmt=pd.merge(members_v3,train)"
   ]
  },
  {
   "cell_type": "code",
   "execution_count": 108,
   "metadata": {},
   "outputs": [
    {
     "data": {
      "text/plain": [
       "array([ 7,  9,  3,  4, 13], dtype=int64)"
      ]
     },
     "execution_count": 108,
     "metadata": {},
     "output_type": "execute_result"
    }
   ],
   "source": [
    "mmt[\"registered_via\"].unique()"
   ]
  },
  {
   "cell_type": "markdown",
   "metadata": {},
   "source": [
    "去除空直和不合理數值"
   ]
  },
  {
   "cell_type": "code",
   "execution_count": 91,
   "metadata": {},
   "outputs": [],
   "source": [
    "mmt2=mmt[((mmt[\"gender\"]==\"female\")|(mmt[\"gender\"]==\"male\"))&((mmt[\"bd\"]>0)&(mmt[\"bd\"]<100))].dropna() \n",
    "mmt3=pd.concat( [mmt2.loc[mmt2.is_churn==1].sample(30000), mmt2.loc[mmt2.is_churn==0].sample(30000)], axis=0)"
   ]
  },
  {
   "cell_type": "markdown",
   "metadata": {},
   "source": [
    "對城市性別註冊裝置年齡有興趣"
   ]
  },
  {
   "cell_type": "code",
   "execution_count": 93,
   "metadata": {},
   "outputs": [],
   "source": [
    "dummy_city = pd.get_dummies(mmt3['city'], prefix='city')\n",
    "dummy_gender = pd.get_dummies(mmt3['gender'], prefix='gender')\n",
    "dummy_registered_via = pd.get_dummies(mmt3['registered_via'], prefix='registered_via')"
   ]
  },
  {
   "cell_type": "code",
   "execution_count": 104,
   "metadata": {},
   "outputs": [],
   "source": [
    "train=pd.concat( [dummy_city.iloc[:,1:], dummy_gender.iloc[:,1:],dummy_registered_via.iloc[:,1:],mmt3[\"bd\"]], axis=1)\n",
    "train['intercept'] = 1.0"
   ]
  },
  {
   "cell_type": "markdown",
   "metadata": {},
   "source": [
    "羅吉斯回歸模型"
   ]
  },
  {
   "cell_type": "code",
   "execution_count": 106,
   "metadata": {},
   "outputs": [
    {
     "name": "stdout",
     "output_type": "stream",
     "text": [
      "Optimization terminated successfully.\n",
      "         Current function value: 0.658445\n",
      "         Iterations 5\n"
     ]
    },
    {
     "data": {
      "text/html": [
       "<table class=\"simpletable\">\n",
       "<caption>Logit Regression Results</caption>\n",
       "<tr>\n",
       "  <th>Dep. Variable:</th>     <td>is_churn</td>     <th>  No. Observations:  </th>  <td> 60000</td> \n",
       "</tr>\n",
       "<tr>\n",
       "  <th>Model:</th>               <td>Logit</td>      <th>  Df Residuals:      </th>  <td> 59973</td> \n",
       "</tr>\n",
       "<tr>\n",
       "  <th>Method:</th>               <td>MLE</td>       <th>  Df Model:          </th>  <td>    26</td> \n",
       "</tr>\n",
       "<tr>\n",
       "  <th>Date:</th>          <td>Thu, 28 Mar 2019</td> <th>  Pseudo R-squ.:     </th>  <td>0.05006</td>\n",
       "</tr>\n",
       "<tr>\n",
       "  <th>Time:</th>              <td>23:26:01</td>     <th>  Log-Likelihood:    </th> <td> -39507.</td>\n",
       "</tr>\n",
       "<tr>\n",
       "  <th>converged:</th>           <td>True</td>       <th>  LL-Null:           </th> <td> -41589.</td>\n",
       "</tr>\n",
       "<tr>\n",
       "  <th> </th>                      <td> </td>        <th>  LLR p-value:       </th>  <td> 0.000</td> \n",
       "</tr>\n",
       "</table>\n",
       "<table class=\"simpletable\">\n",
       "<tr>\n",
       "          <td></td>             <th>coef</th>     <th>std err</th>      <th>z</th>      <th>P>|z|</th>  <th>[0.025</th>    <th>0.975]</th>  \n",
       "</tr>\n",
       "<tr>\n",
       "  <th>city_3</th>            <td>   -0.5660</td> <td>    0.091</td> <td>   -6.228</td> <td> 0.000</td> <td>   -0.744</td> <td>   -0.388</td>\n",
       "</tr>\n",
       "<tr>\n",
       "  <th>city_4</th>            <td>   -0.5089</td> <td>    0.053</td> <td>   -9.568</td> <td> 0.000</td> <td>   -0.613</td> <td>   -0.405</td>\n",
       "</tr>\n",
       "<tr>\n",
       "  <th>city_5</th>            <td>   -0.4238</td> <td>    0.051</td> <td>   -8.250</td> <td> 0.000</td> <td>   -0.524</td> <td>   -0.323</td>\n",
       "</tr>\n",
       "<tr>\n",
       "  <th>city_6</th>            <td>   -0.5969</td> <td>    0.058</td> <td>  -10.284</td> <td> 0.000</td> <td>   -0.711</td> <td>   -0.483</td>\n",
       "</tr>\n",
       "<tr>\n",
       "  <th>city_7</th>            <td>   -0.8657</td> <td>    0.122</td> <td>   -7.106</td> <td> 0.000</td> <td>   -1.104</td> <td>   -0.627</td>\n",
       "</tr>\n",
       "<tr>\n",
       "  <th>city_8</th>            <td>   -0.4098</td> <td>    0.077</td> <td>   -5.321</td> <td> 0.000</td> <td>   -0.561</td> <td>   -0.259</td>\n",
       "</tr>\n",
       "<tr>\n",
       "  <th>city_9</th>            <td>   -0.4841</td> <td>    0.075</td> <td>   -6.487</td> <td> 0.000</td> <td>   -0.630</td> <td>   -0.338</td>\n",
       "</tr>\n",
       "<tr>\n",
       "  <th>city_10</th>           <td>   -0.4190</td> <td>    0.083</td> <td>   -5.061</td> <td> 0.000</td> <td>   -0.581</td> <td>   -0.257</td>\n",
       "</tr>\n",
       "<tr>\n",
       "  <th>city_11</th>           <td>   -0.6438</td> <td>    0.076</td> <td>   -8.504</td> <td> 0.000</td> <td>   -0.792</td> <td>   -0.495</td>\n",
       "</tr>\n",
       "<tr>\n",
       "  <th>city_12</th>           <td>   -0.4281</td> <td>    0.068</td> <td>   -6.258</td> <td> 0.000</td> <td>   -0.562</td> <td>   -0.294</td>\n",
       "</tr>\n",
       "<tr>\n",
       "  <th>city_13</th>           <td>   -0.5486</td> <td>    0.051</td> <td>  -10.834</td> <td> 0.000</td> <td>   -0.648</td> <td>   -0.449</td>\n",
       "</tr>\n",
       "<tr>\n",
       "  <th>city_14</th>           <td>   -0.5581</td> <td>    0.062</td> <td>   -9.032</td> <td> 0.000</td> <td>   -0.679</td> <td>   -0.437</td>\n",
       "</tr>\n",
       "<tr>\n",
       "  <th>city_15</th>           <td>   -0.5762</td> <td>    0.054</td> <td>  -10.667</td> <td> 0.000</td> <td>   -0.682</td> <td>   -0.470</td>\n",
       "</tr>\n",
       "<tr>\n",
       "  <th>city_16</th>           <td>   -0.4694</td> <td>    0.188</td> <td>   -2.502</td> <td> 0.012</td> <td>   -0.837</td> <td>   -0.102</td>\n",
       "</tr>\n",
       "<tr>\n",
       "  <th>city_17</th>           <td>   -0.7108</td> <td>    0.090</td> <td>   -7.889</td> <td> 0.000</td> <td>   -0.887</td> <td>   -0.534</td>\n",
       "</tr>\n",
       "<tr>\n",
       "  <th>city_18</th>           <td>   -0.5467</td> <td>    0.079</td> <td>   -6.879</td> <td> 0.000</td> <td>   -0.702</td> <td>   -0.391</td>\n",
       "</tr>\n",
       "<tr>\n",
       "  <th>city_19</th>           <td>   -0.5423</td> <td>    0.524</td> <td>   -1.036</td> <td> 0.300</td> <td>   -1.569</td> <td>    0.484</td>\n",
       "</tr>\n",
       "<tr>\n",
       "  <th>city_20</th>           <td>   -0.6351</td> <td>    0.220</td> <td>   -2.890</td> <td> 0.004</td> <td>   -1.066</td> <td>   -0.204</td>\n",
       "</tr>\n",
       "<tr>\n",
       "  <th>city_21</th>           <td>   -0.3586</td> <td>    0.087</td> <td>   -4.100</td> <td> 0.000</td> <td>   -0.530</td> <td>   -0.187</td>\n",
       "</tr>\n",
       "<tr>\n",
       "  <th>city_22</th>           <td>   -0.5514</td> <td>    0.054</td> <td>  -10.159</td> <td> 0.000</td> <td>   -0.658</td> <td>   -0.445</td>\n",
       "</tr>\n",
       "<tr>\n",
       "  <th>gender_male</th>       <td>   -0.0208</td> <td>    0.017</td> <td>   -1.226</td> <td> 0.220</td> <td>   -0.054</td> <td>    0.012</td>\n",
       "</tr>\n",
       "<tr>\n",
       "  <th>registered_via_4</th>  <td>    0.3583</td> <td>    0.033</td> <td>   10.823</td> <td> 0.000</td> <td>    0.293</td> <td>    0.423</td>\n",
       "</tr>\n",
       "<tr>\n",
       "  <th>registered_via_7</th>  <td>   -1.1826</td> <td>    0.029</td> <td>  -40.870</td> <td> 0.000</td> <td>   -1.239</td> <td>   -1.126</td>\n",
       "</tr>\n",
       "<tr>\n",
       "  <th>registered_via_9</th>  <td>   -0.4417</td> <td>    0.021</td> <td>  -21.374</td> <td> 0.000</td> <td>   -0.482</td> <td>   -0.401</td>\n",
       "</tr>\n",
       "<tr>\n",
       "  <th>registered_via_13</th> <td>   -1.0312</td> <td>    0.306</td> <td>   -3.365</td> <td> 0.001</td> <td>   -1.632</td> <td>   -0.431</td>\n",
       "</tr>\n",
       "<tr>\n",
       "  <th>bd</th>                <td>   -0.0264</td> <td>    0.001</td> <td>  -26.176</td> <td> 0.000</td> <td>   -0.028</td> <td>   -0.024</td>\n",
       "</tr>\n",
       "<tr>\n",
       "  <th>intercept</th>         <td>    1.6289</td> <td>    0.056</td> <td>   29.180</td> <td> 0.000</td> <td>    1.519</td> <td>    1.738</td>\n",
       "</tr>\n",
       "</table>"
      ],
      "text/plain": [
       "<class 'statsmodels.iolib.summary.Summary'>\n",
       "\"\"\"\n",
       "                           Logit Regression Results                           \n",
       "==============================================================================\n",
       "Dep. Variable:               is_churn   No. Observations:                60000\n",
       "Model:                          Logit   Df Residuals:                    59973\n",
       "Method:                           MLE   Df Model:                           26\n",
       "Date:                Thu, 28 Mar 2019   Pseudo R-squ.:                 0.05006\n",
       "Time:                        23:26:01   Log-Likelihood:                -39507.\n",
       "converged:                       True   LL-Null:                       -41589.\n",
       "                                        LLR p-value:                     0.000\n",
       "=====================================================================================\n",
       "                        coef    std err          z      P>|z|      [0.025      0.975]\n",
       "-------------------------------------------------------------------------------------\n",
       "city_3               -0.5660      0.091     -6.228      0.000      -0.744      -0.388\n",
       "city_4               -0.5089      0.053     -9.568      0.000      -0.613      -0.405\n",
       "city_5               -0.4238      0.051     -8.250      0.000      -0.524      -0.323\n",
       "city_6               -0.5969      0.058    -10.284      0.000      -0.711      -0.483\n",
       "city_7               -0.8657      0.122     -7.106      0.000      -1.104      -0.627\n",
       "city_8               -0.4098      0.077     -5.321      0.000      -0.561      -0.259\n",
       "city_9               -0.4841      0.075     -6.487      0.000      -0.630      -0.338\n",
       "city_10              -0.4190      0.083     -5.061      0.000      -0.581      -0.257\n",
       "city_11              -0.6438      0.076     -8.504      0.000      -0.792      -0.495\n",
       "city_12              -0.4281      0.068     -6.258      0.000      -0.562      -0.294\n",
       "city_13              -0.5486      0.051    -10.834      0.000      -0.648      -0.449\n",
       "city_14              -0.5581      0.062     -9.032      0.000      -0.679      -0.437\n",
       "city_15              -0.5762      0.054    -10.667      0.000      -0.682      -0.470\n",
       "city_16              -0.4694      0.188     -2.502      0.012      -0.837      -0.102\n",
       "city_17              -0.7108      0.090     -7.889      0.000      -0.887      -0.534\n",
       "city_18              -0.5467      0.079     -6.879      0.000      -0.702      -0.391\n",
       "city_19              -0.5423      0.524     -1.036      0.300      -1.569       0.484\n",
       "city_20              -0.6351      0.220     -2.890      0.004      -1.066      -0.204\n",
       "city_21              -0.3586      0.087     -4.100      0.000      -0.530      -0.187\n",
       "city_22              -0.5514      0.054    -10.159      0.000      -0.658      -0.445\n",
       "gender_male          -0.0208      0.017     -1.226      0.220      -0.054       0.012\n",
       "registered_via_4      0.3583      0.033     10.823      0.000       0.293       0.423\n",
       "registered_via_7     -1.1826      0.029    -40.870      0.000      -1.239      -1.126\n",
       "registered_via_9     -0.4417      0.021    -21.374      0.000      -0.482      -0.401\n",
       "registered_via_13    -1.0312      0.306     -3.365      0.001      -1.632      -0.431\n",
       "bd                   -0.0264      0.001    -26.176      0.000      -0.028      -0.024\n",
       "intercept             1.6289      0.056     29.180      0.000       1.519       1.738\n",
       "=====================================================================================\n",
       "\"\"\""
      ]
     },
     "execution_count": 106,
     "metadata": {},
     "output_type": "execute_result"
    }
   ],
   "source": [
    "import statsmodels.api as sm\n",
    "import pylab as pl\n",
    "logit = sm.Logit(mmt3['is_churn'],train)\n",
    "result = logit.fit()\n",
    "result.summary()"
   ]
  },
  {
   "cell_type": "markdown",
   "metadata": {},
   "source": [
    "z職越大代表越有差 city1 於其他城市有差(更容易流失) 而其中city_6,13,15,22 代表相對city1 是不容易流失 裝置registered_via_7,9相對registered_via_3不容易流失  registered_via_4相對registered_via_3容易流失 隨年齡上升變得不容易流失 男女性無顯著差異\n",
    "\n"
   ]
  },
  {
   "cell_type": "code",
   "execution_count": 110,
   "metadata": {},
   "outputs": [],
   "source": [
    "test=pd.concat([mmt2[\"city\"],mmt2[\"gender\"],mmt2[\"registered_via\"],mmt2[\"bd\"],mmt2[\"is_churn\"]], axis=1).sample(10000)\n",
    "test['intercept'] = 1.0"
   ]
  },
  {
   "cell_type": "code",
   "execution_count": 116,
   "metadata": {},
   "outputs": [],
   "source": [
    "dummy_city_test = pd.get_dummies(test['city'], prefix='city')\n",
    "dummy_gender_test = pd.get_dummies(test['gender'], prefix='gender')\n",
    "dummy_registered_via_test = pd.get_dummies(test['registered_via'], prefix='registered_via')\n",
    "test['predict'] =result.predict(\n",
    "    pd.concat( \n",
    "        [dummy_city_test.iloc[:,1:], dummy_gender_test.iloc[:,1:],\n",
    "         dummy_registered_via_test.iloc[:,1:],\n",
    "         test[\"bd\"],\n",
    "         test['intercept']], axis=1))\n"
   ]
  },
  {
   "cell_type": "code",
   "execution_count": 128,
   "metadata": {},
   "outputs": [
    {
     "data": {
      "text/plain": [
       "0.9132"
      ]
     },
     "execution_count": 128,
     "metadata": {},
     "output_type": "execute_result"
    }
   ],
   "source": [
    "total = 0\n",
    "hit = 0\n",
    "for value in test.values:\n",
    "    total +=1\n",
    "    if (value[4] == 1)&(value[-1]>0.8):\n",
    "        hit +=1\n",
    "    if (value[4] == 0)&(value[-1]<0.8):\n",
    "        hit +=1\n",
    "\n",
    "hit/total"
   ]
  },
  {
   "cell_type": "code",
   "execution_count": 4,
   "metadata": {},
   "outputs": [],
   "source": [
    "%matplotlib inline\n",
    "import matplotlib.pyplot as plt"
   ]
  },
  {
   "cell_type": "markdown",
   "metadata": {},
   "source": [
    "年齡分布"
   ]
  },
  {
   "cell_type": "code",
   "execution_count": 24,
   "metadata": {},
   "outputs": [
    {
     "data": {
      "text/plain": [
       "(array([6.70000e+01, 3.70000e+01, 5.30000e+01, 1.08000e+02, 1.22000e+02,\n",
       "        1.70000e+02, 1.48000e+02, 1.13000e+02, 8.10000e+01, 9.70000e+01,\n",
       "        1.06000e+02, 1.99000e+02, 7.90000e+02, 5.63200e+03, 1.66450e+04,\n",
       "        4.27780e+04, 8.21110e+04, 9.06590e+04, 9.13740e+04, 1.10452e+05,\n",
       "        1.10574e+05, 1.12200e+05, 1.01500e+05, 9.72520e+04, 9.15140e+04,\n",
       "        9.24330e+04, 1.02769e+05, 8.27220e+04, 8.20260e+04, 7.04430e+04,\n",
       "        6.26120e+04, 6.46070e+04, 5.85590e+04, 5.56670e+04, 5.31950e+04,\n",
       "        5.14150e+04, 5.43810e+04, 4.27950e+04, 3.88390e+04, 3.54200e+04,\n",
       "        3.39680e+04, 2.83540e+04, 2.52850e+04, 2.29980e+04, 2.14010e+04,\n",
       "        2.06700e+04, 2.22090e+04, 1.70910e+04, 1.56970e+04, 1.37850e+04,\n",
       "        1.31340e+04, 1.14570e+04, 9.49400e+03, 8.39200e+03, 7.25900e+03,\n",
       "        6.34400e+03, 5.90100e+03, 4.58100e+03, 4.12100e+03, 3.44100e+03,\n",
       "        3.23600e+03, 3.06600e+03, 2.29100e+03, 1.86100e+03, 1.81100e+03,\n",
       "        1.62800e+03, 1.71300e+03, 1.02200e+03, 8.13000e+02, 6.78000e+02,\n",
       "        5.34000e+02, 6.43000e+02, 5.09000e+02, 3.79000e+02, 2.94000e+02,\n",
       "        2.89000e+02, 2.79000e+02, 1.88000e+02, 1.87000e+02, 1.46000e+02,\n",
       "        1.66000e+02, 1.27000e+02, 1.59000e+02, 1.64000e+02, 1.23000e+02,\n",
       "        1.31000e+02, 1.86000e+02, 1.10000e+02, 1.52000e+02, 1.32000e+02,\n",
       "        1.80000e+02, 1.90000e+02, 2.51000e+02, 3.30000e+02, 3.73000e+02,\n",
       "        2.37000e+02, 3.23000e+02, 3.16000e+02]),\n",
       " array([ 1.,  2.,  3.,  4.,  5.,  6.,  7.,  8.,  9., 10., 11., 12., 13.,\n",
       "        14., 15., 16., 17., 18., 19., 20., 21., 22., 23., 24., 25., 26.,\n",
       "        27., 28., 29., 30., 31., 32., 33., 34., 35., 36., 37., 38., 39.,\n",
       "        40., 41., 42., 43., 44., 45., 46., 47., 48., 49., 50., 51., 52.,\n",
       "        53., 54., 55., 56., 57., 58., 59., 60., 61., 62., 63., 64., 65.,\n",
       "        66., 67., 68., 69., 70., 71., 72., 73., 74., 75., 76., 77., 78.,\n",
       "        79., 80., 81., 82., 83., 84., 85., 86., 87., 88., 89., 90., 91.,\n",
       "        92., 93., 94., 95., 96., 97., 98., 99.]),\n",
       " <a list of 98 Patch objects>)"
      ]
     },
     "execution_count": 24,
     "metadata": {},
     "output_type": "execute_result"
    },
    {
     "data": {
      "image/png": "[encoded data removed]",
      "text/plain": [
       "<Figure size 432x288 with 1 Axes>"
      ]
     },
     "metadata": {
      "needs_background": "light"
     },
     "output_type": "display_data"
    }
   ],
   "source": [
    "mebd=members_v3[\"bd\"][((members_v3[\"bd\"]>0)&(members_v3[\"bd\"]<100))]\n",
    "plt.hist(mebd,bins=98)"
   ]
  },
  {
   "cell_type": "markdown",
   "metadata": {},
   "source": [
    "居住分布"
   ]
  },
  {
   "cell_type": "code",
   "execution_count": 23,
   "metadata": {},
   "outputs": [
    {
     "data": {
      "text/plain": [
       "(array([4.804326e+06, 0.000000e+00, 2.728200e+04, 2.468480e+05,\n",
       "        3.850690e+05, 1.352000e+05, 1.161000e+04, 4.597500e+04,\n",
       "        4.763900e+04, 3.248200e+04, 4.748900e+04, 6.684300e+04,\n",
       "        3.209780e+05, 8.994000e+04, 1.902130e+05, 5.092000e+03,\n",
       "        2.777200e+04, 3.803900e+04, 1.199000e+03, 4.233000e+03,\n",
       "        2.412440e+05]),\n",
       " array([ 1.,  2.,  3.,  4.,  5.,  6.,  7.,  8.,  9., 10., 11., 12., 13.,\n",
       "        14., 15., 16., 17., 18., 19., 20., 21., 22.]),\n",
       " <a list of 21 Patch objects>)"
      ]
     },
     "execution_count": 23,
     "metadata": {},
     "output_type": "execute_result"
    },
    {
     "data": {
      "image/png": "[encoded data removed]",
      "text/plain": [
       "<Figure size 432x288 with 1 Axes>"
      ]
     },
     "metadata": {
      "needs_background": "light"
     },
     "output_type": "display_data"
    }
   ],
   "source": [
    "mect=members_v3[\"city\"]\n",
    "plt.hist(mect,bins=21)"
   ]
  },
  {
   "cell_type": "code",
   "execution_count": null,
   "metadata": {},
   "outputs": [],
   "source": [
    "註冊裝置分布"
   ]
  },
  {
   "cell_type": "code",
   "execution_count": 30,
   "metadata": {},
   "outputs": [
    {
     "data": {
      "text/plain": [
       "([<matplotlib.axis.XTick at 0x14763df0>,\n",
       "  <matplotlib.axis.XTick at 0x14763410>,\n",
       "  <matplotlib.axis.XTick at 0x14763630>,\n",
       "  <matplotlib.axis.XTick at 0x14777df0>,\n",
       "  <matplotlib.axis.XTick at 0x1478b230>,\n",
       "  <matplotlib.axis.XTick at 0x1478b4f0>,\n",
       "  <matplotlib.axis.XTick at 0x1478b7d0>,\n",
       "  <matplotlib.axis.XTick at 0x14781850>,\n",
       "  <matplotlib.axis.XTick at 0x1478b510>,\n",
       "  <matplotlib.axis.XTick at 0x1478bd30>,\n",
       "  <matplotlib.axis.XTick at 0x147970b0>,\n",
       "  <matplotlib.axis.XTick at 0x147972f0>,\n",
       "  <matplotlib.axis.XTick at 0x147975d0>,\n",
       "  <matplotlib.axis.XTick at 0x147978b0>,\n",
       "  <matplotlib.axis.XTick at 0x14797b90>,\n",
       "  <matplotlib.axis.XTick at 0x14797e70>,\n",
       "  <matplotlib.axis.XTick at 0x14797dd0>,\n",
       "  <matplotlib.axis.XTick at 0x14797510>,\n",
       "  <matplotlib.axis.XTick at 0x147a0130>],\n",
       " <a list of 19 Text xticklabel objects>)"
      ]
     },
     "execution_count": 30,
     "metadata": {},
     "output_type": "execute_result"
    },
    {
     "data": {
      "image/png": "[encoded data removed]",
      "text/plain": [
       "<Figure size 432x288 with 1 Axes>"
      ]
     },
     "metadata": {
      "needs_background": "light"
     },
     "output_type": "display_data"
    }
   ],
   "source": [
    "plt.hist(members_v3[\"registered_via\"],bins=9)\n",
    "plt.xticks(np.arange(1,20,1.0))"
   ]
  }
 ],
 "metadata": {
  "kernelspec": {
   "display_name": "Python 3",
   "language": "python",
   "name": "python3"
  },
  "language_info": {
   "codemirror_mode": {
    "name": "ipython",
    "version": 3
   },
   "file_extension": ".py",
   "mimetype": "text/x-python",
   "name": "python",
   "nbconvert_exporter": "python",
   "pygments_lexer": "ipython3",
   "version": "3.7.1"
  }
 },
 "nbformat": 4,
 "nbformat_minor": 2
}
