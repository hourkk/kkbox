{
 "cells": [
  {
   "cell_type": "markdown",
   "metadata": {},
   "source": [
    "我希望預測出新的會員 那些可能是流失群 那些不是"
   ]
  },
  {
   "cell_type": "code",
   "execution_count": 1,
   "metadata": {},
   "outputs": [],
   "source": [
    "import numpy as np\n",
    "import pandas as pd"
   ]
  },
  {
   "cell_type": "code",
   "execution_count": 2,
   "metadata": {},
   "outputs": [
    {
     "data": {
      "text/html": [
       "<div>\n",
       "<style scoped>\n",
       "    .dataframe tbody tr th:only-of-type {\n",
       "        vertical-align: middle;\n",
       "    }\n",
       "\n",
       "    .dataframe tbody tr th {\n",
       "        vertical-align: top;\n",
       "    }\n",
       "\n",
       "    .dataframe thead th {\n",
       "        text-align: right;\n",
       "    }\n",
       "</style>\n",
       "<table border=\"1\" class=\"dataframe\">\n",
       "  <thead>\n",
       "    <tr style=\"text-align: right;\">\n",
       "      <th></th>\n",
       "      <th>Unnamed: 0</th>\n",
       "      <th>msno</th>\n",
       "      <th>city</th>\n",
       "      <th>bd</th>\n",
       "      <th>gender</th>\n",
       "      <th>registered_via</th>\n",
       "      <th>registration_init_time</th>\n",
       "      <th>('num_25', 'mean')</th>\n",
       "      <th>('num_50', 'mean')</th>\n",
       "      <th>('num_75', 'mean')</th>\n",
       "      <th>...</th>\n",
       "      <th>('total_secs', 'mean')</th>\n",
       "      <th>play_days</th>\n",
       "      <th>payment_method_id_mode</th>\n",
       "      <th>payment_plan_days_mode</th>\n",
       "      <th>plan_list_price_sum</th>\n",
       "      <th>actual_amount_paid_sum</th>\n",
       "      <th>is_auto_renew_sum</th>\n",
       "      <th>is_cancel_sum</th>\n",
       "      <th>transactions_times</th>\n",
       "      <th>is_churn</th>\n",
       "    </tr>\n",
       "  </thead>\n",
       "  <tbody>\n",
       "    <tr>\n",
       "      <th>0</th>\n",
       "      <td>0</td>\n",
       "      <td>+tJonkh+O1CA796Fm5X60UMOtB6POHAwPjbTRVl/EuU=</td>\n",
       "      <td>1</td>\n",
       "      <td>0</td>\n",
       "      <td>NaN</td>\n",
       "      <td>7</td>\n",
       "      <td>2011-09-14</td>\n",
       "      <td>5.258621</td>\n",
       "      <td>1.017241</td>\n",
       "      <td>0.827586</td>\n",
       "      <td>...</td>\n",
       "      <td>7163.224276</td>\n",
       "      <td>58</td>\n",
       "      <td>41</td>\n",
       "      <td>30</td>\n",
       "      <td>258</td>\n",
       "      <td>258</td>\n",
       "      <td>2</td>\n",
       "      <td>0</td>\n",
       "      <td>2</td>\n",
       "      <td>0</td>\n",
       "    </tr>\n",
       "    <tr>\n",
       "      <th>1</th>\n",
       "      <td>1</td>\n",
       "      <td>I0yFvqMoNkM8ZNHb617e1RBzIS/YRKemHO7Wj13EtA0=</td>\n",
       "      <td>13</td>\n",
       "      <td>63</td>\n",
       "      <td>male</td>\n",
       "      <td>9</td>\n",
       "      <td>2011-09-18</td>\n",
       "      <td>1.384615</td>\n",
       "      <td>0.576923</td>\n",
       "      <td>0.538462</td>\n",
       "      <td>...</td>\n",
       "      <td>4270.220462</td>\n",
       "      <td>26</td>\n",
       "      <td>40</td>\n",
       "      <td>30</td>\n",
       "      <td>298</td>\n",
       "      <td>298</td>\n",
       "      <td>2</td>\n",
       "      <td>0</td>\n",
       "      <td>2</td>\n",
       "      <td>0</td>\n",
       "    </tr>\n",
       "    <tr>\n",
       "      <th>2</th>\n",
       "      <td>2</td>\n",
       "      <td>OoDwiKZM+ZGr9P3fRivavgOtglTEaNfWJO4KaJcTTts=</td>\n",
       "      <td>1</td>\n",
       "      <td>0</td>\n",
       "      <td>NaN</td>\n",
       "      <td>7</td>\n",
       "      <td>2011-09-18</td>\n",
       "      <td>1.523810</td>\n",
       "      <td>0.285714</td>\n",
       "      <td>0.285714</td>\n",
       "      <td>...</td>\n",
       "      <td>3052.110524</td>\n",
       "      <td>21</td>\n",
       "      <td>41</td>\n",
       "      <td>30</td>\n",
       "      <td>298</td>\n",
       "      <td>298</td>\n",
       "      <td>2</td>\n",
       "      <td>0</td>\n",
       "      <td>2</td>\n",
       "      <td>0</td>\n",
       "    </tr>\n",
       "    <tr>\n",
       "      <th>3</th>\n",
       "      <td>3</td>\n",
       "      <td>4De1jAxNRABoyRBDZ82U0yEmzYkqeOugRGVNIf92Xb8=</td>\n",
       "      <td>4</td>\n",
       "      <td>28</td>\n",
       "      <td>female</td>\n",
       "      <td>9</td>\n",
       "      <td>2011-09-20</td>\n",
       "      <td>2.200000</td>\n",
       "      <td>0.400000</td>\n",
       "      <td>0.200000</td>\n",
       "      <td>...</td>\n",
       "      <td>3557.196400</td>\n",
       "      <td>5</td>\n",
       "      <td>36</td>\n",
       "      <td>30</td>\n",
       "      <td>360</td>\n",
       "      <td>360</td>\n",
       "      <td>2</td>\n",
       "      <td>0</td>\n",
       "      <td>2</td>\n",
       "      <td>0</td>\n",
       "    </tr>\n",
       "    <tr>\n",
       "      <th>4</th>\n",
       "      <td>4</td>\n",
       "      <td>Z6WIOK9vXy+e2XDBiioNAxuZ0ScXSU/Ebq4tUwqVSrE=</td>\n",
       "      <td>22</td>\n",
       "      <td>38</td>\n",
       "      <td>female</td>\n",
       "      <td>9</td>\n",
       "      <td>2011-09-29</td>\n",
       "      <td>1.800000</td>\n",
       "      <td>1.000000</td>\n",
       "      <td>0.700000</td>\n",
       "      <td>...</td>\n",
       "      <td>1662.418200</td>\n",
       "      <td>20</td>\n",
       "      <td>40</td>\n",
       "      <td>30</td>\n",
       "      <td>298</td>\n",
       "      <td>298</td>\n",
       "      <td>2</td>\n",
       "      <td>0</td>\n",
       "      <td>2</td>\n",
       "      <td>0</td>\n",
       "    </tr>\n",
       "  </tbody>\n",
       "</table>\n",
       "<p>5 rows × 23 columns</p>\n",
       "</div>"
      ],
      "text/plain": [
       "   Unnamed: 0                                          msno  city  bd  gender  \\\n",
       "0           0  +tJonkh+O1CA796Fm5X60UMOtB6POHAwPjbTRVl/EuU=     1   0     NaN   \n",
       "1           1  I0yFvqMoNkM8ZNHb617e1RBzIS/YRKemHO7Wj13EtA0=    13  63    male   \n",
       "2           2  OoDwiKZM+ZGr9P3fRivavgOtglTEaNfWJO4KaJcTTts=     1   0     NaN   \n",
       "3           3  4De1jAxNRABoyRBDZ82U0yEmzYkqeOugRGVNIf92Xb8=     4  28  female   \n",
       "4           4  Z6WIOK9vXy+e2XDBiioNAxuZ0ScXSU/Ebq4tUwqVSrE=    22  38  female   \n",
       "\n",
       "   registered_via registration_init_time  ('num_25', 'mean')  \\\n",
       "0               7             2011-09-14            5.258621   \n",
       "1               9             2011-09-18            1.384615   \n",
       "2               7             2011-09-18            1.523810   \n",
       "3               9             2011-09-20            2.200000   \n",
       "4               9             2011-09-29            1.800000   \n",
       "\n",
       "   ('num_50', 'mean')  ('num_75', 'mean')    ...     ('total_secs', 'mean')  \\\n",
       "0            1.017241            0.827586    ...                7163.224276   \n",
       "1            0.576923            0.538462    ...                4270.220462   \n",
       "2            0.285714            0.285714    ...                3052.110524   \n",
       "3            0.400000            0.200000    ...                3557.196400   \n",
       "4            1.000000            0.700000    ...                1662.418200   \n",
       "\n",
       "   play_days  payment_method_id_mode  payment_plan_days_mode  \\\n",
       "0         58                      41                      30   \n",
       "1         26                      40                      30   \n",
       "2         21                      41                      30   \n",
       "3          5                      36                      30   \n",
       "4         20                      40                      30   \n",
       "\n",
       "   plan_list_price_sum  actual_amount_paid_sum  is_auto_renew_sum  \\\n",
       "0                  258                     258                  2   \n",
       "1                  298                     298                  2   \n",
       "2                  298                     298                  2   \n",
       "3                  360                     360                  2   \n",
       "4                  298                     298                  2   \n",
       "\n",
       "   is_cancel_sum  transactions_times  is_churn  \n",
       "0              0                   2         0  \n",
       "1              0                   2         0  \n",
       "2              0                   2         0  \n",
       "3              0                   2         0  \n",
       "4              0                   2         0  \n",
       "\n",
       "[5 rows x 23 columns]"
      ]
     },
     "execution_count": 2,
     "metadata": {},
     "output_type": "execute_result"
    }
   ],
   "source": [
    "kkboxdata2017=pd.read_csv('kkboxdata2017v2.csv',parse_dates=['registration_init_time'])\n",
    "kkboxdata2017.head()"
   ]
  },
  {
   "cell_type": "code",
   "execution_count": 3,
   "metadata": {},
   "outputs": [
    {
     "name": "stdout",
     "output_type": "stream",
     "text": [
      "<class 'pandas.core.frame.DataFrame'>\n",
      "RangeIndex: 770929 entries, 0 to 770928\n",
      "Data columns (total 23 columns):\n",
      "Unnamed: 0                770929 non-null int64\n",
      "msno                      770929 non-null object\n",
      "city                      770929 non-null int64\n",
      "bd                        770929 non-null int64\n",
      "gender                    356099 non-null object\n",
      "registered_via            770929 non-null int64\n",
      "registration_init_time    770929 non-null datetime64[ns]\n",
      "('num_25', 'mean')        770929 non-null float64\n",
      "('num_50', 'mean')        770929 non-null float64\n",
      "('num_75', 'mean')        770929 non-null float64\n",
      "('num_985', 'mean')       770929 non-null float64\n",
      "('num_100', 'mean')       770929 non-null float64\n",
      "('num_unq', 'mean')       770929 non-null float64\n",
      "('total_secs', 'mean')    770929 non-null float64\n",
      "play_days                 770929 non-null int64\n",
      "payment_method_id_mode    770929 non-null int64\n",
      "payment_plan_days_mode    770929 non-null int64\n",
      "plan_list_price_sum       770929 non-null int64\n",
      "actual_amount_paid_sum    770929 non-null int64\n",
      "is_auto_renew_sum         770929 non-null int64\n",
      "is_cancel_sum             770929 non-null int64\n",
      "transactions_times        770929 non-null int64\n",
      "is_churn                  770929 non-null int64\n",
      "dtypes: datetime64[ns](1), float64(7), int64(13), object(2)\n",
      "memory usage: 135.3+ MB\n"
     ]
    }
   ],
   "source": [
    "kkboxdata2017.info()"
   ]
  },
  {
   "cell_type": "markdown",
   "metadata": {},
   "source": [
    "因為類別太多 先做虛擬變數"
   ]
  },
  {
   "cell_type": "code",
   "execution_count": 4,
   "metadata": {},
   "outputs": [
    {
     "data": {
      "text/plain": [
       "Index(['Unnamed: 0', 'msno', 'bd', 'registration_init_time',\n",
       "       '('num_25', 'mean')', '('num_50', 'mean')', '('num_75', 'mean')',\n",
       "       '('num_985', 'mean')', '('num_100', 'mean')', '('num_unq', 'mean')',\n",
       "       '('total_secs', 'mean')', 'play_days', 'payment_plan_days_mode',\n",
       "       'plan_list_price_sum', 'actual_amount_paid_sum', 'is_auto_renew_sum',\n",
       "       'is_cancel_sum', 'transactions_times', 'city__3.0', 'city__4.0',\n",
       "       'city__5.0', 'city__6.0', 'city__7.0', 'city__8.0', 'city__9.0',\n",
       "       'city__10.0', 'city__11.0', 'city__12.0', 'city__13.0', 'city__14.0',\n",
       "       'city__15.0', 'city__16.0', 'city__17.0', 'city__18.0', 'city__19.0',\n",
       "       'city__20.0', 'city__21.0', 'city__22.0', 'city__nan', 'gender__male',\n",
       "       'gender__nan', 'registered_via__4.0', 'registered_via__7.0',\n",
       "       'registered_via__9.0', 'registered_via__13.0', 'registered_via__nan',\n",
       "       'payment_method_id_mode__11.0', 'payment_method_id_mode__14.0',\n",
       "       'payment_method_id_mode__16.0', 'payment_method_id_mode__17.0',\n",
       "       'payment_method_id_mode__18.0', 'payment_method_id_mode__19.0',\n",
       "       'payment_method_id_mode__21.0', 'payment_method_id_mode__23.0',\n",
       "       'payment_method_id_mode__26.0', 'payment_method_id_mode__27.0',\n",
       "       'payment_method_id_mode__28.0', 'payment_method_id_mode__29.0',\n",
       "       'payment_method_id_mode__30.0', 'payment_method_id_mode__31.0',\n",
       "       'payment_method_id_mode__32.0', 'payment_method_id_mode__33.0',\n",
       "       'payment_method_id_mode__34.0', 'payment_method_id_mode__35.0',\n",
       "       'payment_method_id_mode__36.0', 'payment_method_id_mode__37.0',\n",
       "       'payment_method_id_mode__38.0', 'payment_method_id_mode__39.0',\n",
       "       'payment_method_id_mode__40.0', 'payment_method_id_mode__41.0',\n",
       "       'payment_method_id_mode__nan', 'is_churn'],\n",
       "      dtype='object')"
      ]
     },
     "execution_count": 4,
     "metadata": {},
     "output_type": "execute_result"
    }
   ],
   "source": [
    "dummiesc=['city','gender','registered_via','payment_method_id_mode']\n",
    "kkboxdata2017 =pd.get_dummies(kkboxdata2017, prefix_sep=\"__\",columns=dummiesc,dummy_na=True,drop_first=True)\n",
    "cols = list(kkboxdata2017)\n",
    "cols.pop(cols.index('is_churn'))\n",
    "cols.append('is_churn')\n",
    "kkboxdata2017 = kkboxdata2017.loc[:,cols]\n",
    "kkboxdata2017.columns"
   ]
  },
  {
   "cell_type": "markdown",
   "metadata": {},
   "source": [
    "訓練資料 設計在20161201之前註冊會員"
   ]
  },
  {
   "cell_type": "code",
   "execution_count": 5,
   "metadata": {},
   "outputs": [
    {
     "data": {
      "text/plain": [
       "0    703552\n",
       "1     36157\n",
       "Name: is_churn, dtype: int64"
      ]
     },
     "execution_count": 5,
     "metadata": {},
     "output_type": "execute_result"
    }
   ],
   "source": [
    "traindata=kkboxdata2017.query('registration_init_time<20161202')\n",
    "traindata['is_churn'].value_counts()"
   ]
  },
  {
   "cell_type": "markdown",
   "metadata": {},
   "source": [
    "驗證資料 設計在20161202與20170101之間註冊會員"
   ]
  },
  {
   "cell_type": "code",
   "execution_count": 6,
   "metadata": {},
   "outputs": [
    {
     "data": {
      "text/plain": [
       "0    13920\n",
       "1     1016\n",
       "Name: is_churn, dtype: int64"
      ]
     },
     "execution_count": 6,
     "metadata": {},
     "output_type": "execute_result"
    }
   ],
   "source": [
    "validdata=kkboxdata2017.query('20170101>registration_init_time>20161201')\n",
    "validdata['is_churn'].value_counts()"
   ]
  },
  {
   "cell_type": "markdown",
   "metadata": {},
   "source": [
    "測試資料 設計在20170101之後註冊會員"
   ]
  },
  {
   "cell_type": "code",
   "execution_count": 7,
   "metadata": {},
   "outputs": [
    {
     "data": {
      "text/plain": [
       "0    13971\n",
       "1     1857\n",
       "Name: is_churn, dtype: int64"
      ]
     },
     "execution_count": 7,
     "metadata": {},
     "output_type": "execute_result"
    }
   ],
   "source": [
    "testdata=kkboxdata2017.query('registration_init_time>20170101')\n",
    "testdata['is_churn'].value_counts()"
   ]
  },
  {
   "cell_type": "markdown",
   "metadata": {},
   "source": [
    "看結果而言 流失比率是少數 如果要找出預測流失客群 屬於二元分類問題 另外要對資料不平衡的情況做處理\n",
    "\n",
    "\n",
    "先塞選好資料需要用的留"
   ]
  },
  {
   "cell_type": "markdown",
   "metadata": {},
   "source": [
    "刪除不用的欄位"
   ]
  },
  {
   "cell_type": "code",
   "execution_count": 8,
   "metadata": {},
   "outputs": [
    {
     "name": "stderr",
     "output_type": "stream",
     "text": [
      "C:\\Users\\user\\Anaconda3\\lib\\site-packages\\pandas\\core\\frame.py:3697: SettingWithCopyWarning: \n",
      "A value is trying to be set on a copy of a slice from a DataFrame\n",
      "\n",
      "See the caveats in the documentation: http://pandas.pydata.org/pandas-docs/stable/indexing.html#indexing-view-versus-copy\n",
      "  errors=errors)\n"
     ]
    }
   ],
   "source": [
    "traindata.drop(['Unnamed: 0', 'msno','registration_init_time',], axis=1,inplace =True)\n",
    "validdata.drop(['Unnamed: 0', 'msno','registration_init_time',], axis=1,inplace =True)\n",
    "testdata.drop(['Unnamed: 0', 'msno','registration_init_time',], axis=1,inplace =True)"
   ]
  },
  {
   "cell_type": "markdown",
   "metadata": {},
   "source": [
    "類別要使用虛擬變數"
   ]
  },
  {
   "cell_type": "markdown",
   "metadata": {},
   "source": [
    "這邊要做分類的機器學習 這邊我先把主流的分類器跑一次 之後再挑選幾個作參數調整"
   ]
  },
  {
   "cell_type": "code",
   "execution_count": 9,
   "metadata": {},
   "outputs": [],
   "source": [
    "import pandas as pd\n",
    "import numpy as np\n",
    "import seaborn as sns\n",
    "import matplotlib.pyplot as plt\n",
    "import time\n",
    "\n",
    "from sklearn.decomposition import PCA\n",
    "from sklearn.preprocessing import StandardScaler, LabelEncoder\n",
    "\n",
    "from sklearn.linear_model import LogisticRegression\n",
    "from sklearn.svm import SVC\n",
    "from sklearn.neighbors import KNeighborsClassifier\n",
    "from sklearn import tree\n",
    "from sklearn.neural_network import MLPClassifier\n",
    "from sklearn.neighbors import KNeighborsClassifier\n",
    "from sklearn.ensemble import GradientBoostingClassifier\n",
    "from sklearn.gaussian_process.kernels import RBF\n",
    "from sklearn.ensemble import RandomForestClassifier\n",
    "from sklearn.naive_bayes import GaussianNB\n",
    "from sklearn.metrics import roc_auc_score\n",
    "from xgboost import XGBClassifier\n",
    "from sklearn.linear_model import SGDClassifier\n",
    "from sklearn.metrics import recall_score"
   ]
  },
  {
   "cell_type": "code",
   "execution_count": 10,
   "metadata": {},
   "outputs": [],
   "source": [
    "dict_classifiers = {\n",
    "    \"Logistic Regression\": LogisticRegression(),\n",
    "    \"Nearest Neighbors\": KNeighborsClassifier(),\n",
    "    #\"rbf SVM\": SVC(kernel='rbf',probability=True),\n",
    "    #\"linear SVM\": SVC(kernel='linear',probability=True),\n",
    "    #\"poly SVM\": SVC(kernel='poly',probability=True),\n",
    "    #\"sigmoid SVM\": SVC(kernel='sigmoid',probability=True),\n",
    "    \"linear SVM sgd\": SGDClassifier(loss='hinge'),\n",
    "    \"Gradient Boosting Classifier\": GradientBoostingClassifier(n_estimators=100),\n",
    "    \"Decision Tree\": tree.DecisionTreeClassifier(),\n",
    "    \"Random Forest\": RandomForestClassifier(n_estimators=100),\n",
    "    \"Neural Net\": MLPClassifier(alpha = 1),\n",
    "    \"Naive Bayes\": GaussianNB(),\n",
    "    \"XGBoost\": XGBClassifier()\n",
    "    #\"AdaBoost\": AdaBoostClassifier(),\n",
    "    #\"QDA\": QuadraticDiscriminantAnalysis(),\n",
    "    #\"Gaussian Process\": GaussianProcessClassifier()\n",
    "}"
   ]
  },
  {
   "cell_type": "code",
   "execution_count": 11,
   "metadata": {},
   "outputs": [],
   "source": [
    "def batch_classify(X_train, Y_train, X_test, Y_test, no_classifiers = 5, verbose = True):\n",
    "    \"\"\"\n",
    "    This method, takes as input the X, Y matrices of the Train and Test set.\n",
    "    And fits them on all of the Classifiers specified in the dict_classifier.\n",
    "    The trained models, and accuracies are saved in a dictionary. The reason to use a dictionary\n",
    "    is because it is very easy to save the whole dictionary with the pickle module.\n",
    "    \n",
    "    Usually, the SVM, Random Forest and Gradient Boosting Classifier take quiet some time to train. \n",
    "    So it is best to train them on a smaller dataset first and \n",
    "    decide whether you want to comment them out or not based on the test accuracy score.\n",
    "    \"\"\"\n",
    "    \n",
    "    dict_models = {}\n",
    "    for classifier_name, classifier in list(dict_classifiers.items())[:no_classifiers]:\n",
    "        t_start = time.perf_counter()\n",
    "        classifier.fit(X_train, Y_train)\n",
    "        t_end = time.perf_counter()\n",
    "        \n",
    "        t_diff = t_end - t_start\n",
    "        train_score = classifier.score(X_train, Y_train)\n",
    "        test_score = classifier.score(X_test, Y_test)\n",
    "        test_recall=recall_score(Y_test,classifier.predict(X_test))\n",
    "        \n",
    "        dict_models[classifier_name] = {'model': classifier, 'train_score': train_score, 'test_score': test_score, 'recall': test_recall, 'train_time': t_diff}\n",
    "        if verbose:\n",
    "            print(\"trained {c} in {f:.2f} s\".format(c=classifier_name, f=t_diff))\n",
    "    return dict_models\n",
    "\n",
    "\n",
    "\n",
    "def display_dict_models(dict_models, sort_by='test_score'):\n",
    "    cls = [key for key in dict_models.keys()]\n",
    "    test_s = [dict_models[key]['test_score'] for key in cls]\n",
    "    training_s = [dict_models[key]['train_score'] for key in cls]\n",
    "    training_r = [dict_models[key]['recall'] for key in cls]\n",
    "    training_t = [dict_models[key]['train_time'] for key in cls]\n",
    "    \n",
    "    df_ = pd.DataFrame(data=np.zeros(shape=(len(cls),5)), columns = ['classifier', 'train_score', 'test_score', 'recall', 'train_time'])\n",
    "    for ii in range(0,len(cls)):\n",
    "        df_.loc[ii, 'classifier'] = cls[ii]\n",
    "        df_.loc[ii, 'train_score'] = training_s[ii]\n",
    "        df_.loc[ii, 'test_score'] = test_s[ii]\n",
    "        df_.loc[ii, 'recall'] = training_r[ii]\n",
    "        df_.loc[ii, 'train_time'] = training_t[ii]\n",
    "    \n",
    "    display(df_.sort_values(by=sort_by, ascending=False))"
   ]
  },
  {
   "cell_type": "code",
   "execution_count": 12,
   "metadata": {},
   "outputs": [
    {
     "name": "stderr",
     "output_type": "stream",
     "text": [
      "C:\\Users\\user\\Anaconda3\\lib\\site-packages\\sklearn\\linear_model\\logistic.py:433: FutureWarning: Default solver will be changed to 'lbfgs' in 0.22. Specify a solver to silence this warning.\n",
      "  FutureWarning)\n",
      "C:\\Users\\user\\Anaconda3\\lib\\site-packages\\sklearn\\svm\\base.py:922: ConvergenceWarning: Liblinear failed to converge, increase the number of iterations.\n",
      "  \"the number of iterations.\", ConvergenceWarning)\n"
     ]
    },
    {
     "name": "stdout",
     "output_type": "stream",
     "text": [
      "trained Logistic Regression in 52.13 s\n",
      "trained Nearest Neighbors in 36.06 s\n"
     ]
    },
    {
     "name": "stderr",
     "output_type": "stream",
     "text": [
      "C:\\Users\\user\\Anaconda3\\lib\\site-packages\\sklearn\\linear_model\\stochastic_gradient.py:166: FutureWarning: max_iter and tol parameters have been added in SGDClassifier in 0.19. If both are left unset, they default to max_iter=5 and tol=None. If tol is not None, max_iter defaults to max_iter=1000. From 0.21, default max_iter will be 1000, and default tol will be 1e-3.\n",
      "  FutureWarning)\n"
     ]
    },
    {
     "name": "stdout",
     "output_type": "stream",
     "text": [
      "trained linear SVM sgd in 1.86 s\n",
      "trained Gradient Boosting Classifier in 199.05 s\n",
      "trained Decision Tree in 20.69 s\n",
      "trained Random Forest in 200.95 s\n",
      "trained Neural Net in 289.57 s\n",
      "trained Naive Bayes in 1.43 s\n",
      "trained XGBoost in 128.21 s\n"
     ]
    },
    {
     "data": {
      "text/html": [
       "<div>\n",
       "<style scoped>\n",
       "    .dataframe tbody tr th:only-of-type {\n",
       "        vertical-align: middle;\n",
       "    }\n",
       "\n",
       "    .dataframe tbody tr th {\n",
       "        vertical-align: top;\n",
       "    }\n",
       "\n",
       "    .dataframe thead th {\n",
       "        text-align: right;\n",
       "    }\n",
       "</style>\n",
       "<table border=\"1\" class=\"dataframe\">\n",
       "  <thead>\n",
       "    <tr style=\"text-align: right;\">\n",
       "      <th></th>\n",
       "      <th>classifier</th>\n",
       "      <th>train_score</th>\n",
       "      <th>test_score</th>\n",
       "      <th>recall</th>\n",
       "      <th>train_time</th>\n",
       "    </tr>\n",
       "  </thead>\n",
       "  <tbody>\n",
       "    <tr>\n",
       "      <th>3</th>\n",
       "      <td>Gradient Boosting Classifier</td>\n",
       "      <td>0.972431</td>\n",
       "      <td>0.963511</td>\n",
       "      <td>0.630906</td>\n",
       "      <td>199.052585</td>\n",
       "    </tr>\n",
       "    <tr>\n",
       "      <th>5</th>\n",
       "      <td>Random Forest</td>\n",
       "      <td>0.999996</td>\n",
       "      <td>0.963243</td>\n",
       "      <td>0.630906</td>\n",
       "      <td>200.946515</td>\n",
       "    </tr>\n",
       "    <tr>\n",
       "      <th>8</th>\n",
       "      <td>XGBoost</td>\n",
       "      <td>0.972413</td>\n",
       "      <td>0.963042</td>\n",
       "      <td>0.628937</td>\n",
       "      <td>128.206317</td>\n",
       "    </tr>\n",
       "    <tr>\n",
       "      <th>4</th>\n",
       "      <td>Decision Tree</td>\n",
       "      <td>1.000000</td>\n",
       "      <td>0.947442</td>\n",
       "      <td>0.552165</td>\n",
       "      <td>20.687276</td>\n",
       "    </tr>\n",
       "    <tr>\n",
       "      <th>0</th>\n",
       "      <td>Logistic Regression</td>\n",
       "      <td>0.954102</td>\n",
       "      <td>0.939877</td>\n",
       "      <td>0.143701</td>\n",
       "      <td>52.129670</td>\n",
       "    </tr>\n",
       "    <tr>\n",
       "      <th>1</th>\n",
       "      <td>Nearest Neighbors</td>\n",
       "      <td>0.957191</td>\n",
       "      <td>0.938337</td>\n",
       "      <td>0.181102</td>\n",
       "      <td>36.055290</td>\n",
       "    </tr>\n",
       "    <tr>\n",
       "      <th>6</th>\n",
       "      <td>Neural Net</td>\n",
       "      <td>0.952453</td>\n",
       "      <td>0.936395</td>\n",
       "      <td>0.073819</td>\n",
       "      <td>289.566755</td>\n",
       "    </tr>\n",
       "    <tr>\n",
       "      <th>2</th>\n",
       "      <td>linear SVM sgd</td>\n",
       "      <td>0.950048</td>\n",
       "      <td>0.930102</td>\n",
       "      <td>0.004921</td>\n",
       "      <td>1.861573</td>\n",
       "    </tr>\n",
       "    <tr>\n",
       "      <th>7</th>\n",
       "      <td>Naive Bayes</td>\n",
       "      <td>0.908902</td>\n",
       "      <td>0.880758</td>\n",
       "      <td>0.777559</td>\n",
       "      <td>1.426174</td>\n",
       "    </tr>\n",
       "  </tbody>\n",
       "</table>\n",
       "</div>"
      ],
      "text/plain": [
       "                     classifier  train_score  test_score    recall  train_time\n",
       "3  Gradient Boosting Classifier     0.972431    0.963511  0.630906  199.052585\n",
       "5                 Random Forest     0.999996    0.963243  0.630906  200.946515\n",
       "8                       XGBoost     0.972413    0.963042  0.628937  128.206317\n",
       "4                 Decision Tree     1.000000    0.947442  0.552165   20.687276\n",
       "0           Logistic Regression     0.954102    0.939877  0.143701   52.129670\n",
       "1             Nearest Neighbors     0.957191    0.938337  0.181102   36.055290\n",
       "6                    Neural Net     0.952453    0.936395  0.073819  289.566755\n",
       "2                linear SVM sgd     0.950048    0.930102  0.004921    1.861573\n",
       "7                   Naive Bayes     0.908902    0.880758  0.777559    1.426174"
      ]
     },
     "metadata": {},
     "output_type": "display_data"
    }
   ],
   "source": [
    "dict_models = batch_classify(traindata.iloc[:,:-1], traindata.iloc[:,-1], validdata.iloc[:,:-1], validdata.iloc[:,-1], no_classifiers = 12)\n",
    "display_dict_models(dict_models)"
   ]
  },
  {
   "cell_type": "markdown",
   "metadata": {},
   "source": [
    "因為資料偏頗 測試分數相對較高 因此可以參考recall 算出對流失值的正確比例 越高代表對流失判斷能力越高\n",
    "\n",
    "因此前三名為較適合模型 \n",
    "\n",
    "若再考慮成本下 Naive Bayes的recall是裡面高 也是可以考慮的模型 且訓練時間少很多"
   ]
  }
 ],
 "metadata": {
  "kernelspec": {
   "display_name": "Python 3",
   "language": "python",
   "name": "python3"
  },
  "language_info": {
   "codemirror_mode": {
    "name": "ipython",
    "version": 3
   },
   "file_extension": ".py",
   "mimetype": "text/x-python",
   "name": "python",
   "nbconvert_exporter": "python",
   "pygments_lexer": "ipython3",
   "version": "3.7.1"
  }
 },
 "nbformat": 4,
 "nbformat_minor": 2
}
